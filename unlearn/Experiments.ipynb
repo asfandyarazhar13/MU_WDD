{
 "cells": [
  {
   "cell_type": "markdown",
   "id": "95b0cc1f-a1e7-41c6-a991-95000523d178",
   "metadata": {},
   "source": [
    "## Experiments"
   ]
  },
  {
   "cell_type": "markdown",
   "id": "49b246e1-2378-4063-a883-579f0c8eac93",
   "metadata": {},
   "source": [
    "### CIFAR-10 Dataset"
   ]
  },
  {
   "cell_type": "markdown",
   "id": "e9eae4d5-5d2c-473f-a143-07dd73214cf7",
   "metadata": {},
   "source": [
    "Save trained CIFAR-10 resnet:"
   ]
  },
  {
   "cell_type": "code",
   "execution_count": null,
   "id": "1537ca9a-abb6-44df-9efd-267cffe668af",
   "metadata": {},
   "outputs": [],
   "source": [
    "python -u /notebooks/Unlearn-Sparse/train_blank.py --data ./data --dataset cifar10 --arch resnet18 --prune_type rewind_lt --rewind_epoch 8 --save_dir $modelsavedir1 --rate 0.5 --pruning_times 1 --num_workers 1 --epochs 2\n",
    "#add a directory to save the model"
   ]
  },
  {
   "cell_type": "markdown",
   "id": "4fe25e86-6f93-4d6c-b277-1e9819340067",
   "metadata": {},
   "source": [
    "Use this model, run unlearning algo on it, to get results for the standard CIFAR10 dataset:  \n",
    "The output of the above command, is in `modelsavedir1` - find the best checkpoint in that directory - which should be saved in the format 'model_SA_best.pth.tar', and use that as mask in the below commands for unlearning:"
   ]
  },
  {
   "cell_type": "code",
   "execution_count": null,
   "id": "72897c2a-f4a4-4943-811c-aa1488fb81d7",
   "metadata": {},
   "outputs": [],
   "source": [
    "python -u /notebooks/Unlearn-Sparse/main_forget.py --save_dir $unlearned_model_save_dir2 --mask $'modelsavedir1/0model_SA_best.pth.tar' --unlearn FT_prune --alpha 0.2 --unlearn_lr 0.01 --unlearn_epochs 10 --class_to_replace 2\n",
    "#savedir named according to class that is unlearned"
   ]
  },
  {
   "cell_type": "code",
   "execution_count": null,
   "id": "100687fd-f558-49e6-b4c7-059d49c6aa2a",
   "metadata": {},
   "outputs": [],
   "source": [
    "python -u /notebooks/Unlearn-Sparse/main_forget.py --save_dir $unlearned_model_save_dir3 --mask $'modelsavedir1/0model_SA_best.pth.tar' --unlearn FT_prune --alpha 0.2 --unlearn_lr 0.01 --unlearn_epochs 10 --class_to_replace 3"
   ]
  },
  {
   "cell_type": "code",
   "execution_count": null,
   "id": "e51c80b3-d30f-42ec-b637-d1b7d4a19b0c",
   "metadata": {},
   "outputs": [],
   "source": [
    "python -u /notebooks/Unlearn-Sparse/main_forget.py --save_dir $unlearned_model_save_dir4 --mask $'modelsavedir1/0model_SA_best.pth.tar' --unlearn FT_prune --alpha 0.2 --unlearn_lr 0.01 --unlearn_epochs 10 --class_to_replace 4"
   ]
  },
  {
   "cell_type": "code",
   "execution_count": null,
   "id": "1f167254-6459-4458-8232-d3f56a02c4c1",
   "metadata": {},
   "outputs": [],
   "source": [
    "python -u /notebooks/Unlearn-Sparse/main_forget.py --save_dir $unlearned_model_save_dir5 --mask $'modelsavedir1/0model_SA_best.pth.tar' --unlearn FT_prune --alpha 0.2 --unlearn_lr 0.01 --unlearn_epochs 10 --class_to_replace 5"
   ]
  },
  {
   "cell_type": "code",
   "execution_count": null,
   "id": "02774338-2acd-4f27-a06a-a969bca9c7ef",
   "metadata": {},
   "outputs": [],
   "source": [
    "python -u /notebooks/Unlearn-Sparse/main_forget.py --save_dir $unlearned_model_save_dir6 --mask $'modelsavedir1/0model_SA_best.pth.tar' --unlearn FT_prune --alpha 0.2 --unlearn_lr 0.01 --unlearn_epochs 10 --class_to_replace 6"
   ]
  },
  {
   "cell_type": "code",
   "execution_count": null,
   "id": "ab075819-0d76-4032-8265-41f1a0e5310d",
   "metadata": {},
   "outputs": [],
   "source": [
    "python -u /notebooks/Unlearn-Sparse/main_forget.py --save_dir $unlearned_model_save_dir7 --mask $'modelsavedir1/0model_SA_best.pth.tar' --unlearn FT_prune --alpha 0.2 --unlearn_lr 0.01 --unlearn_epochs 10 --class_to_replace 7"
   ]
  },
  {
   "cell_type": "code",
   "execution_count": null,
   "id": "81f24158-a929-4cd3-b5c0-28d1bbe6dfb1",
   "metadata": {},
   "outputs": [],
   "source": [
    "python -u /notebooks/Unlearn-Sparse/main_forget.py --save_dir $unlearned_model_save_dir8 --mask $'modelsavedir1/0model_SA_best.pth.tar' --unlearn FT_prune --alpha 0.2 --unlearn_lr 0.01 --unlearn_epochs 10 --class_to_replace 8"
   ]
  },
  {
   "cell_type": "code",
   "execution_count": null,
   "id": "3a40233b-0671-4b31-9d33-53c2dfe340ba",
   "metadata": {},
   "outputs": [],
   "source": [
    "python -u /notebooks/Unlearn-Sparse/main_forget.py --save_dir $unlearned_model_save_dir9 --mask $'modelsavedir1/0model_SA_best.pth.tar' --unlearn FT_prune --alpha 0.2 --unlearn_lr 0.01 --unlearn_epochs 10 --class_to_replace 9"
   ]
  },
  {
   "cell_type": "code",
   "execution_count": null,
   "id": "ca866924-d5c1-4904-8f28-d28271a8b792",
   "metadata": {},
   "outputs": [],
   "source": [
    "python -u /notebooks/Unlearn-Sparse/main_forget.py --save_dir $unlearned_model_save_dir10 --mask $'modelsavedir1/0model_SA_best.pth.tar' --unlearn FT_prune --alpha 0.2 --unlearn_lr 0.01 --unlearn_epochs 10 --class_to_replace 10"
   ]
  },
  {
   "cell_type": "markdown",
   "id": "5ff9bc63-bf77-4af4-b928-d7f22238ef17",
   "metadata": {},
   "source": [
    "### SVHN Dataset"
   ]
  },
  {
   "cell_type": "markdown",
   "id": "a6850681-5bf1-4604-93ca-41ea80f34353",
   "metadata": {},
   "source": [
    "Save trained CIFAR-10 resnet:"
   ]
  },
  {
   "cell_type": "code",
   "execution_count": null,
   "id": "aaa411da-f147-41e1-ba33-7bd83d5e8ede",
   "metadata": {},
   "outputs": [],
   "source": [
    "python -u /notebooks/Unlearn-Sparse/train_blank.py --data ./data --dataset svhn --arch resnet18 --prune_type rewind_lt --rewind_epoch 8 --save_dir $'modelsavedir2/0model_SA_best.pth.tar' --rate 0.5 --pruning_times 1 --num_workers 1 --epochs 2\n",
    "#add a directory to save the model to"
   ]
  },
  {
   "cell_type": "markdown",
   "id": "09468fae-6e3f-4a88-b782-174a1f8b52c3",
   "metadata": {},
   "source": [
    "Use this model, run unlearning algo on it, to get results for the standard SVHN dataset:  \n",
    "The output of the above command, is in `modelsavedir2` - find the best checkpoint in that directory - which should be saved in the format 'model_SA_best.pth.tar', and use that as mask in the below commands for unlearning:"
   ]
  },
  {
   "cell_type": "code",
   "execution_count": null,
   "id": "e3ad0770-c010-4775-9f0c-a91adf1766ea",
   "metadata": {},
   "outputs": [],
   "source": [
    "python -u /notebooks/Unlearn-Sparse/main_forget.py --save_dir $unlearned_model_save_dir2 --mask $'modelsavedir2/0model_SA_best.pth.tar' --unlearn FT_prune --alpha 0.2 --unlearn_lr 0.01 --unlearn_epochs 10 --class_to_replace 2\n",
    "#savedir named according to class that is unlearned"
   ]
  },
  {
   "cell_type": "code",
   "execution_count": null,
   "id": "e8c45c89-7f48-4917-a87c-116ac36d8573",
   "metadata": {},
   "outputs": [],
   "source": [
    "python -u /notebooks/Unlearn-Sparse/main_forget.py --save_dir $unlearned_model_save_dir3 --mask $'modelsavedir2/0model_SA_best.pth.tar' --unlearn FT_prune --alpha 0.2 --unlearn_lr 0.01 --unlearn_epochs 10 --class_to_replace 3"
   ]
  },
  {
   "cell_type": "code",
   "execution_count": null,
   "id": "63d04a58-9509-4426-bbaf-e9d04da25e7b",
   "metadata": {},
   "outputs": [],
   "source": [
    "python -u /notebooks/Unlearn-Sparse/main_forget.py --save_dir $unlearned_model_save_dir4 --mask $'modelsavedir2/0model_SA_best.pth.tar' --unlearn FT_prune --alpha 0.2 --unlearn_lr 0.01 --unlearn_epochs 10 --class_to_replace 4"
   ]
  },
  {
   "cell_type": "code",
   "execution_count": null,
   "id": "a101b9ad-f8c3-497c-93b3-8a867c084089",
   "metadata": {},
   "outputs": [],
   "source": [
    "python -u /notebooks/Unlearn-Sparse/main_forget.py --save_dir $unlearned_model_save_dir5 --mask $'modelsavedir2/0model_SA_best.pth.tar' --unlearn FT_prune --alpha 0.2 --unlearn_lr 0.01 --unlearn_epochs 10 --class_to_replace 5"
   ]
  },
  {
   "cell_type": "code",
   "execution_count": null,
   "id": "ec8ec5d4-7823-4938-8c69-f2232f2eaa15",
   "metadata": {},
   "outputs": [],
   "source": [
    "python -u /notebooks/Unlearn-Sparse/main_forget.py --save_dir $unlearned_model_save_dir6 --mask $'modelsavedir2/0model_SA_best.pth.tar' --unlearn FT_prune --alpha 0.2 --unlearn_lr 0.01 --unlearn_epochs 10 --class_to_replace 6"
   ]
  },
  {
   "cell_type": "code",
   "execution_count": null,
   "id": "94cafa65-10ed-43fc-b768-bccbcfaa4801",
   "metadata": {},
   "outputs": [],
   "source": [
    "python -u /notebooks/Unlearn-Sparse/main_forget.py --save_dir $unlearned_model_save_dir7 --mask $'modelsavedir2/0model_SA_best.pth.tar' --unlearn FT_prune --alpha 0.2 --unlearn_lr 0.01 --unlearn_epochs 10 --class_to_replace 7"
   ]
  },
  {
   "cell_type": "code",
   "execution_count": null,
   "id": "605628e7-c4a7-4e97-9ef5-1e805047d03c",
   "metadata": {},
   "outputs": [],
   "source": [
    "python -u /notebooks/Unlearn-Sparse/main_forget.py --save_dir $unlearned_model_save_dir8 --mask $'modelsavedir2/0model_SA_best.pth.tar' --unlearn FT_prune --alpha 0.2 --unlearn_lr 0.01 --unlearn_epochs 10 --class_to_replace 8"
   ]
  },
  {
   "cell_type": "code",
   "execution_count": null,
   "id": "ca3efe7d-5fc2-4a11-99cf-1146402ee481",
   "metadata": {},
   "outputs": [],
   "source": [
    "python -u /notebooks/Unlearn-Sparse/main_forget.py --save_dir $unlearned_model_save_dir9 --mask $'modelsavedir2/0model_SA_best.pth.tar' --unlearn FT_prune --alpha 0.2 --unlearn_lr 0.01 --unlearn_epochs 10 --class_to_replace 9"
   ]
  },
  {
   "cell_type": "code",
   "execution_count": null,
   "id": "79b68801-2631-404b-933c-f5d72ca08b08",
   "metadata": {},
   "outputs": [],
   "source": [
    "python -u /notebooks/Unlearn-Sparse/main_forget.py --save_dir $unlearned_model_save_dir10 --mask $'modelsavedir2/0model_SA_best.pth.tar' --unlearn FT_prune --alpha 0.2 --unlearn_lr 0.01 --unlearn_epochs 10 --class_to_replace 10"
   ]
  }
 ],
 "metadata": {
  "kernelspec": {
   "display_name": "Python 3 (ipykernel)",
   "language": "python",
   "name": "python3"
  },
  "language_info": {
   "codemirror_mode": {
    "name": "ipython",
    "version": 3
   },
   "file_extension": ".py",
   "mimetype": "text/x-python",
   "name": "python",
   "nbconvert_exporter": "python",
   "pygments_lexer": "ipython3",
   "version": "3.9.16"
  }
 },
 "nbformat": 4,
 "nbformat_minor": 5
}
